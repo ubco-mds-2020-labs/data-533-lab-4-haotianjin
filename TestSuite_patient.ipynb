{
 "cells": [
  {
   "cell_type": "code",
   "execution_count": 3,
   "metadata": {},
   "outputs": [
    {
     "name": "stderr",
     "output_type": "stream",
     "text": [
      "test_additionsymp (TestModule_covid_patient.TestCovidPatients) ... ok\n",
      "test_bmi (TestModule_covid_patient.TestCovidPatients) ... ok\n",
      "test_display (TestModule_covid_patient.TestCovidPatients) ... ok\n",
      "test_fullrecovered (TestModule_covid_patient.TestCovidPatients) ... ok\n",
      "test_init (TestModule_covid_patient.TestCovidPatients) ... ok\n",
      "test_recoveredsymp (TestModule_covid_patient.TestCovidPatients) ... ok\n",
      "test_testresult (TestModule_covid_patient.TestCovidPatients) ... ok\n",
      "test_additionsymp (TestModule_patients.TestPatients) ... ok\n",
      "test_bmi (TestModule_patients.TestPatients) ... ok\n",
      "test_display (TestModule_patients.TestPatients) ... ok\n",
      "test_fullrecovered (TestModule_patients.TestPatients) ... ok\n",
      "test_init (TestModule_patients.TestPatients) ... ok\n",
      "test_recoveredsymp (TestModule_patients.TestPatients) ... ok\n",
      "\n",
      "----------------------------------------------------------------------\n",
      "Ran 13 tests in 0.026s\n",
      "\n",
      "OK\n",
      "test_additionsymp (TestModule_covid_patient.TestCovidPatients) ... ok\n",
      "test_bmi (TestModule_covid_patient.TestCovidPatients) ... ok\n",
      "test_display (TestModule_covid_patient.TestCovidPatients) ... ok\n",
      "test_fullrecovered (TestModule_covid_patient.TestCovidPatients) ... ok\n",
      "test_init (TestModule_covid_patient.TestCovidPatients) ... ok\n",
      "test_recoveredsymp (TestModule_covid_patient.TestCovidPatients) ... ok\n",
      "test_testresult (TestModule_covid_patient.TestCovidPatients) ... ok\n",
      "test_bonus (TestModule_nurse.TestNurse) ... ok\n",
      "test_change_in_phone_num (TestModule_nurse.TestNurse) ... ok\n",
      "test_change_in_salary (TestModule_nurse.TestNurse) ... ok\n",
      "test_display (TestModule_nurse.TestNurse) ... ok\n",
      "test_init (TestModule_nurse.TestNurse) ... ok\n",
      "test_additionsymp (TestModule_patients.TestPatients) ... ok\n",
      "test_bmi (TestModule_patients.TestPatients) ... ok\n",
      "test_display (TestModule_patients.TestPatients) ... ok\n",
      "test_fullrecovered (TestModule_patients.TestPatients) ... ok\n",
      "test_init (TestModule_patients.TestPatients) ... ok\n",
      "test_recoveredsymp (TestModule_patients.TestPatients) ... ok\n",
      "\n",
      "----------------------------------------------------------------------\n",
      "Ran 18 tests in 0.055s\n",
      "\n",
      "OK\n",
      "......................."
     ]
    },
    {
     "name": "stdout",
     "output_type": "stream",
     "text": [
      "Start testing in covid-19 patients.\n",
      "Finish tests in covid-19 patients.\n",
      "Start testing in general patients.\n",
      "Finish tests in general patients.\n",
      "Start testing in covid-19 patients.\n",
      "Finish tests in covid-19 patients.\n",
      "Start testing nurse\n",
      "This nurse's bonus salary is 250\n",
      "With bonus salary, the nurse's total salary is 3450\n",
      "This nurse's bonus salary is 50\n",
      "With bonus salary, the nurse's total salary is 9050\n",
      "Finish test nurse\n",
      "Start testing in general patients.\n",
      "Finish tests in general patients.\n",
      "Start testing in general patients.\n",
      "Finish tests in general patients.\n",
      "Start testing in covid-19 patients.\n",
      "Finish tests in covid-19 patients.\n",
      "Start testing nurse\n",
      "This nurse's bonus salary is 250\n",
      "With bonus salary, the nurse's total salary is 3450\n",
      "This nurse's bonus salary is 50\n",
      "With bonus salary, the nurse's total salary is 9050\n",
      "Finish test nurse\n",
      "Start testing doctor\n",
      "Finish test doctor\n",
      "<unittest.runner.TextTestResult run=23 errors=0 failures=0>\n"
     ]
    },
    {
     "name": "stderr",
     "output_type": "stream",
     "text": [
      "\n",
      "----------------------------------------------------------------------\n",
      "Ran 23 tests in 0.029s\n",
      "\n",
      "OK\n"
     ]
    }
   ],
   "source": [
    "import unittest\n",
    "from TestModule_patients import TestPatients\n",
    "from TestModule_covid_patient import TestCovidPatients\n",
    "from TestModule_nurse import TestNurse\n",
    "from TestModule_doctor import TestDoctor\n",
    "def my_suite():\n",
    "    suite = unittest.TestSuite()\n",
    "    result = unittest.TestResult() \n",
    "    suite.addTest(unittest.makeSuite(TestPatients)) \n",
    "    suite.addTest(unittest.makeSuite(TestCovidPatients))\n",
    "    suite.addTest(unittest.makeSuite(TestNurse))\n",
    "    suite.addTest(unittest.makeSuite(TestDoctor))\n",
    "    runner = unittest.TextTestRunner() \n",
    "    print(runner.run(suite))\n",
    "my_suite()"
   ]
  },
  {
   "cell_type": "code",
   "execution_count": null,
   "metadata": {},
   "outputs": [],
   "source": []
  }
 ],
 "metadata": {
  "kernelspec": {
   "display_name": "Python 3",
   "language": "python",
   "name": "python3"
  },
  "language_info": {
   "codemirror_mode": {
    "name": "ipython",
    "version": 3
   },
   "file_extension": ".py",
   "mimetype": "text/x-python",
   "name": "python",
   "nbconvert_exporter": "python",
   "pygments_lexer": "ipython3",
   "version": "3.8.3"
  }
 },
 "nbformat": 4,
 "nbformat_minor": 4
}
